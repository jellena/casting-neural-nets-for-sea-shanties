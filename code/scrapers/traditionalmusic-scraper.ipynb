{
 "cells": [
  {
   "cell_type": "code",
   "execution_count": 12,
   "metadata": {},
   "outputs": [],
   "source": [
    "# Imports\n",
    "import pandas as pd\n",
    "import time\n",
    "import requests\n",
    "import string\n",
    "import numpy as np\n",
    "\n",
    "from lxml import html\n",
    "from bs4 import BeautifulSoup"
   ]
  },
  {
   "cell_type": "code",
   "execution_count": 13,
   "metadata": {},
   "outputs": [],
   "source": [
    "# Setting base url for song list\n",
    "url = 'http://www.traditionalmusic.co.uk/sea-shanty/0sea-shanty'\n",
    "\n",
    "# Setting base url for song\n",
    "song_url = 'http://www.traditionalmusic.co.uk/sea-shanty/'"
   ]
  },
  {
   "cell_type": "code",
   "execution_count": 14,
   "metadata": {},
   "outputs": [],
   "source": [
    "# Creating empty list to store links\n",
    "links_list = []"
   ]
  },
  {
   "cell_type": "code",
   "execution_count": 15,
   "metadata": {},
   "outputs": [
    {
     "data": {
      "text/plain": [
       "200"
      ]
     },
     "execution_count": 15,
     "metadata": {},
     "output_type": "execute_result"
    }
   ],
   "source": [
    "# Getting list of page links\n",
    "page_list = requests.get('http://www.traditionalmusic.co.uk/sea-shanty/0sea-shanty.htm')\n",
    "page_list.status_code"
   ]
  },
  {
   "cell_type": "code",
   "execution_count": 16,
   "metadata": {},
   "outputs": [],
   "source": [
    "# Create soup for page links\n",
    "page_list_soup = BeautifulSoup(page_list.content, 'lxml')\n",
    "page_list_table = page_list_soup.find_all('a')\n",
    "\n",
    "# Dropping non page links\n",
    "del page_list_table[:3]\n",
    "del page_list_table[-13:]\n",
    "\n",
    "# Pulling out links\n",
    "page_list_links = [link['href'] for link in page_list_table]"
   ]
  },
  {
   "cell_type": "code",
   "execution_count": 17,
   "metadata": {},
   "outputs": [],
   "source": [
    "# Creating empty list for song links\n",
    "links_list = []"
   ]
  },
  {
   "cell_type": "code",
   "execution_count": 18,
   "metadata": {},
   "outputs": [],
   "source": [
    "# Generating a list of song links\n",
    "for page in page_list_links:\n",
    "    song_list = requests.get(f'http://www.traditionalmusic.co.uk/sea-shanty/{page}')\n",
    "    song_list_soup = BeautifulSoup(song_list.content, 'lxml')\n",
    "    song_table = song_list_soup.find_all('a')\n",
    "\n",
    "    del song_table[:28]\n",
    "    del song_table[-10:]\n",
    "    song_links = [x['href'] for x in song_table]\n",
    "    \n",
    "    links_list = links_list + song_links"
   ]
  },
  {
   "cell_type": "code",
   "execution_count": 19,
   "metadata": {},
   "outputs": [],
   "source": [
    "# Instantiating empty dictionary\n",
    "shanties_dict = {}"
   ]
  },
  {
   "cell_type": "code",
   "execution_count": 20,
   "metadata": {},
   "outputs": [],
   "source": [
    "# Loop to generate pull song lyrics \n",
    "for link in links_list:\n",
    "    # Requesting song link\n",
    "    song_res = requests.get(f'http://www.traditionalmusic.co.uk/sea-shanty/{link}')\n",
    "    # Putting in a small sleep to limit requests on server to under 100 per minute\n",
    "    time.sleep(.75)\n",
    "    # Getting and formatting song title\n",
    "    title = BeautifulSoup(song_res.text).title.text\n",
    "    title = title.replace('Traditional Sea Songs & Sea Shanties - ', '')\n",
    "    # Converting request to soup\n",
    "    song_soup = BeautifulSoup(song_res.content, 'lxml')\n",
    "    # Getting song lyrics\n",
    "    lyrics = song_soup.find('pre').text\n",
    "    # Updating dictionary\n",
    "    shanties_dict.update({title : lyrics})"
   ]
  },
  {
   "cell_type": "code",
   "execution_count": 21,
   "metadata": {},
   "outputs": [],
   "source": [
    "# Converting to DataFrame\n",
    "traditional_music_songs = pd.DataFrame(shanties_dict.items(), columns=['title', 'lyrics'])"
   ]
  },
  {
   "cell_type": "code",
   "execution_count": 22,
   "metadata": {},
   "outputs": [],
   "source": [
    "# Writing to csv for use in other scripts\n",
    "traditional_music_songs.to_csv('../../data/traditional_music_songs.csv')"
   ]
  }
 ],
 "metadata": {
  "kernelspec": {
   "display_name": "Python 3",
   "language": "python",
   "name": "python3"
  },
  "language_info": {
   "codemirror_mode": {
    "name": "ipython",
    "version": 3
   },
   "file_extension": ".py",
   "mimetype": "text/x-python",
   "name": "python",
   "nbconvert_exporter": "python",
   "pygments_lexer": "ipython3",
   "version": "3.7.6"
  }
 },
 "nbformat": 4,
 "nbformat_minor": 4
}
