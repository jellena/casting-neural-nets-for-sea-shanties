{
 "cells": [
  {
   "cell_type": "code",
   "execution_count": 1,
   "metadata": {},
   "outputs": [],
   "source": [
    "# Imports\n",
    "import pandas as pd\n",
    "from selenium import webdriver\n",
    "import time\n",
    "from pathlib import Path\n",
    "\n",
    "from selenium.webdriver.firefox.options import Options"
   ]
  },
  {
   "cell_type": "code",
   "execution_count": 2,
   "metadata": {},
   "outputs": [
    {
     "name": "stdout",
     "output_type": "stream",
     "text": [
      "Headless Firefox Initialized\n"
     ]
    }
   ],
   "source": [
    "# Set file path to geckodriver\n",
    "gecko_path =r'C:\\Users\\jacob\\Documents\\Drivers\\geckodriver.exe'\n",
    "\n",
    "# Setting driver options and instantiating driver\n",
    "options = Options()\n",
    "options.headless = True\n",
    "driver = webdriver.Firefox(options=options, executable_path=gecko_path)\n",
    "driver.get(\"http://google.com/\")\n",
    "print (\"Headless Firefox Initialized\")"
   ]
  },
  {
   "cell_type": "code",
   "execution_count": 3,
   "metadata": {},
   "outputs": [],
   "source": [
    "# Calling Main page\n",
    "driver.get('https://www.contemplator.com/sea/')"
   ]
  },
  {
   "cell_type": "code",
   "execution_count": 4,
   "metadata": {},
   "outputs": [],
   "source": [
    "# Pulling out al 'a' elements\n",
    "song_list = driver.find_elements_by_tag_name('a')"
   ]
  },
  {
   "cell_type": "code",
   "execution_count": 5,
   "metadata": {},
   "outputs": [],
   "source": [
    "# Creating lists of song titles and links\n",
    "links_list  = [song.get_attribute('href') for song in song_list]"
   ]
  },
  {
   "cell_type": "code",
   "execution_count": 6,
   "metadata": {},
   "outputs": [],
   "source": [
    "# Deleting titles and links that are not songs\n",
    "del links_list[:7]\n",
    "del links_list[-25:]"
   ]
  },
  {
   "cell_type": "code",
   "execution_count": 7,
   "metadata": {},
   "outputs": [
    {
     "name": "stdout",
     "output_type": "stream",
     "text": [
      "Lengh of Links list  : 197\n"
     ]
    }
   ],
   "source": [
    "# Checking lengs of each list\n",
    "print(f'Lengh of Links list  : {len(links_list)}')"
   ]
  },
  {
   "cell_type": "code",
   "execution_count": 8,
   "metadata": {},
   "outputs": [],
   "source": [
    "# Removing None from links list\n",
    "links_list = list(filter(lambda a: a != None, links_list))"
   ]
  },
  {
   "cell_type": "code",
   "execution_count": 9,
   "metadata": {},
   "outputs": [
    {
     "data": {
      "text/plain": [
       "142"
      ]
     },
     "execution_count": 9,
     "metadata": {},
     "output_type": "execute_result"
    }
   ],
   "source": [
    "# Checking length of list\n",
    "len(links_list)"
   ]
  },
  {
   "cell_type": "code",
   "execution_count": 10,
   "metadata": {},
   "outputs": [],
   "source": [
    "# Instantiating empty dictionary\n",
    "shanties_dict = {}"
   ]
  },
  {
   "cell_type": "code",
   "execution_count": 11,
   "metadata": {},
   "outputs": [],
   "source": [
    "# Loop through links list to get lyrics for all song\n",
    "for link in links_list:\n",
    "\n",
    "    # Calling page with song lyrics\n",
    "    driver.get(link)\n",
    "\n",
    "    # Generating Song Title\n",
    "    title = driver.title\n",
    "    \n",
    "    # Putting in a small sleep to limit requests on server to under 100 per minute\n",
    "    time.sleep(.75)\n",
    "   \n",
    "    try:\n",
    "        # Pulling out song lyrics\n",
    "        lyrics = (driver.find_element_by_xpath('html/body/center/table[1]/tbody/tr[3]/td[2]/strong')).text\n",
    "        shanties_dict.update({title : lyrics})\n",
    "    except:\n",
    "        try:\n",
    "            # Pulling out song lyrics\n",
    "            lyrics = (driver.find_element_by_xpath('/html/body/center/table[1]/tbody/tr[4]/td[2]/strong')).text\n",
    "            shanties_dict.update({title : lyrics})\n",
    "        except:\n",
    "            # Pulling out song lyrics\n",
    "            lyrics = (driver.find_element_by_xpath('/html/body/center/table[1]/tbody/tr[3]/td/strong')).text\n",
    "            shanties_dict.update({title : lyrics})"
   ]
  },
  {
   "cell_type": "code",
   "execution_count": 12,
   "metadata": {},
   "outputs": [],
   "source": [
    "# Creating data frame for songs and lyrics\n",
    "contemplator_songs = pd.DataFrame(shanties_dict.items(), columns=['title', 'lyrics'])"
   ]
  },
  {
   "cell_type": "code",
   "execution_count": 13,
   "metadata": {},
   "outputs": [],
   "source": [
    "# Writing to csv for use in other scripts\n",
    "contemplator_songs.to_csv('../../data/contemplator_songs.csv')"
   ]
  }
 ],
 "metadata": {
  "kernelspec": {
   "display_name": "Python 3",
   "language": "python",
   "name": "python3"
  },
  "language_info": {
   "codemirror_mode": {
    "name": "ipython",
    "version": 3
   },
   "file_extension": ".py",
   "mimetype": "text/x-python",
   "name": "python",
   "nbconvert_exporter": "python",
   "pygments_lexer": "ipython3",
   "version": "3.7.6"
  }
 },
 "nbformat": 4,
 "nbformat_minor": 4
}
