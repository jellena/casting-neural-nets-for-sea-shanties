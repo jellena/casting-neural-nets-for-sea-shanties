{
 "cells": [
  {
   "cell_type": "code",
   "execution_count": null,
   "metadata": {},
   "outputs": [],
   "source": [
    "# Imports\n",
    "import pandas as pd\n",
    "import time\n",
    "import requests\n",
    "import re\n",
    "\n",
    "from bs4 import BeautifulSoup\n",
    "#from lxml import html"
   ]
  },
  {
   "cell_type": "code",
   "execution_count": null,
   "metadata": {},
   "outputs": [],
   "source": [
    "# Setting base url\n",
    "url = 'https://www.sailorsongs.com/'"
   ]
  },
  {
   "cell_type": "code",
   "execution_count": null,
   "metadata": {},
   "outputs": [],
   "source": [
    "# Requesting links page\n",
    "res_links = requests.get(f'{url}lyrics.html', headers={\"User-Agent\": 'XY'}) # Default User-Agent was blocked\n",
    "res_links.status_code"
   ]
  },
  {
   "cell_type": "code",
   "execution_count": null,
   "metadata": {},
   "outputs": [],
   "source": [
    "# Converting requests result into list of links\n",
    "links_soup = BeautifulSoup(res_links.content, 'lxml')\n",
    "links_list = links_soup.find_all('a', href=True)\n",
    "links_list = [x['href'] for x in links_list]"
   ]
  },
  {
   "cell_type": "code",
   "execution_count": null,
   "metadata": {},
   "outputs": [],
   "source": [
    "# Dropping non-song links from list\n",
    "del links_list[:7]\n",
    "del links_list[-6:]"
   ]
  },
  {
   "cell_type": "code",
   "execution_count": null,
   "metadata": {},
   "outputs": [],
   "source": [
    "# Creating empty dictionary to hold songs\n",
    "shanties_dict = {}"
   ]
  },
  {
   "cell_type": "code",
   "execution_count": null,
   "metadata": {},
   "outputs": [],
   "source": [
    "# Iterating through\n",
    "for link in links_list:\n",
    "    # Requesting lyrics page\n",
    "    res_lyrics = requests.get(f'{url}{link}')\n",
    "    \n",
    "    # Putting in a small sleep to limit requests on server to under 100 per minute\n",
    "    time.sleep(.75)\n",
    "    # Uncomment to check status of scrape. print(f'{res_lyrics.status_code} {link}')\n",
    "    \n",
    "    # Pulling song title\n",
    "    title = BeautifulSoup(res_lyrics.text).title.text\n",
    "\n",
    "    # Converting lyrics request into list\n",
    "    lyrics_soup = BeautifulSoup(res_lyrics.content, 'lxml')\n",
    "    lyrics_raw = lyrics_soup.find_all('p')\n",
    "    # Checking to see if lyrics block has intro text\n",
    "    if lyrics_raw[0].text.find('www.SailorSongs.com') != -1:\n",
    "        del lyrics_raw[0]\n",
    "    # Deleting non-lyrics from list\n",
    "    del lyrics_raw[-1]\n",
    "\n",
    "    # Converting soup into list\n",
    "    lyrics_raw = [x.text for x in lyrics_raw]\n",
    "    \n",
    "    # Converting list of strings to single string\n",
    "    lyrics = ''\n",
    "    lyrics = lyrics.join(lyrics_raw)\n",
    "    \n",
    "    # Updating Shanties Dict\n",
    "    shanties_dict.update({title : lyrics})"
   ]
  },
  {
   "cell_type": "code",
   "execution_count": null,
   "metadata": {},
   "outputs": [],
   "source": [
    "# Creating data frame for songs and lyrics\n",
    "sailor_songs_songs = pd.DataFrame(shanties_dict.items(), columns=['title', 'lyrics'])"
   ]
  },
  {
   "cell_type": "code",
   "execution_count": null,
   "metadata": {},
   "outputs": [],
   "source": [
    "# Writing to csv for use in other scripts\n",
    "sailor_songs_songs.to_csv('../../data/sailor_songs_songs.csv')"
   ]
  }
 ],
 "metadata": {
  "kernelspec": {
   "display_name": "Python 3",
   "language": "python",
   "name": "python3"
  },
  "language_info": {
   "codemirror_mode": {
    "name": "ipython",
    "version": 3
   },
   "file_extension": ".py",
   "mimetype": "text/x-python",
   "name": "python",
   "nbconvert_exporter": "python",
   "pygments_lexer": "ipython3",
   "version": "3.8.12"
  }
 },
 "nbformat": 4,
 "nbformat_minor": 4
}
