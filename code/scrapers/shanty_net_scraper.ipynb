{
 "cells": [
  {
   "cell_type": "code",
   "execution_count": null,
   "metadata": {},
   "outputs": [],
   "source": [
    "# Imports\n",
    "import pandas as pd\n",
    "import requests\n",
    "import time\n",
    "\n",
    "from bs4 import BeautifulSoup"
   ]
  },
  {
   "cell_type": "code",
   "execution_count": null,
   "metadata": {},
   "outputs": [],
   "source": [
    "# Creating empty list for all links\n",
    "links_list = [] \n",
    "\n",
    "# Looping through all songs pages to create master list of lyrics links\n",
    "# At time of scraping there are 22 pages of songs\n",
    "for n in range(1, 23):\n",
    "    lyrics_links_res = requests.get(f'http://www.shantynet.com/category/lyrics/page/{n}/')\n",
    "    print(f'{n} {lyrics_links_res.status_code}')\n",
    "    \n",
    "    lyrics_links_soup = BeautifulSoup(lyrics_links_res.content, 'lxml')\n",
    "    lyrics_links_links = lyrics_links_soup.find_all('a', href=True, title=True, rel=True)\n",
    "    lyrics_links_links = [link['href'] for link in lyrics_links_links]\n",
    "    links_list = links_list + lyrics_links_links"
   ]
  },
  {
   "cell_type": "code",
   "execution_count": null,
   "metadata": {},
   "outputs": [],
   "source": [
    "# Creating empty dictionary to store songs and lyrics\n",
    "shanties_dict = {}"
   ]
  },
  {
   "cell_type": "code",
   "execution_count": null,
   "metadata": {},
   "outputs": [],
   "source": [
    "# Looping through links list to extract lyrics\n",
    "for link in links_list:\n",
    "    lyrics_res = requests.get(link)\n",
    "    # Putting in a small sleep to limit requests on server to under 100 per minute\n",
    "    time.sleep(.75)\n",
    "    \n",
    "    # Printing status codes as check for scraping progress\n",
    "    print(f'{lyrics_res.status_code}')\n",
    "    \n",
    "    lyrics_soup = BeautifulSoup(lyrics_res.content, 'lxml')\n",
    "\n",
    "    # Pulling song title\n",
    "    title = BeautifulSoup(lyrics_res.text).title.text\n",
    "    title = title.replace('Shanty Net', '')\n",
    "\n",
    "    # Checking lyric format type. If html is written with few 'p' tags will do if otherwise else\n",
    "    if len(lyrics_soup.find_all('p')) < 15:\n",
    "        print('div tag song')\n",
    "        \n",
    "        # Class string looks to be unique to lyrics\n",
    "        lyrics_raw = lyrics_soup.find_all('div', class_='_UZe kno-fb-ctx')\n",
    "        lyrics_raw = [x.text for x in lyrics_raw]\n",
    "        lyrics = ''\n",
    "        lyrics = lyrics.join(lyrics_raw)\n",
    "        shanties_dict.update({title : lyrics})\n",
    "    \n",
    "    else:   \n",
    "        lyrics_raw = lyrics_soup.find_all('p')\n",
    "        \n",
    "        # Deleting not lyrics 'p' tags\n",
    "        del lyrics_raw[-9:]\n",
    "\n",
    "        # List of words to check through at begining of song\n",
    "        check_list = ['written', 'music', 'lyrics' 'www.']\n",
    "\n",
    "        # If one of the words above is found it will delete the authorship attribution line from lyrics\n",
    "        for check in check_list:\n",
    "            if check in lyrics_raw[0].text.lower():\n",
    "                del lyrics_raw[0]\n",
    "                print('Deleted a writer line')\n",
    "                break\n",
    "                \n",
    "        lyrics_raw = [x.text for x in lyrics_raw]\n",
    "        lyrics = ''\n",
    "        lyrics = lyrics.join(lyrics_raw)\n",
    "        shanties_dict.update({title : lyrics})"
   ]
  },
  {
   "cell_type": "code",
   "execution_count": null,
   "metadata": {},
   "outputs": [],
   "source": [
    "# Creating data frame for songs and lyrics\n",
    "shanty_net_songs = pd.DataFrame(shanties_dict.items(), columns=['title', 'lyrics'])"
   ]
  },
  {
   "cell_type": "code",
   "execution_count": null,
   "metadata": {},
   "outputs": [],
   "source": [
    "# Writing to csv for use in other scripts\n",
    "shanty_net_songs.to_csv('../../data/shanty_net_songs.csv')"
   ]
  }
 ],
 "metadata": {
  "kernelspec": {
   "display_name": "Python 3",
   "language": "python",
   "name": "python3"
  },
  "language_info": {
   "codemirror_mode": {
    "name": "ipython",
    "version": 3
   },
   "file_extension": ".py",
   "mimetype": "text/x-python",
   "name": "python",
   "nbconvert_exporter": "python",
   "pygments_lexer": "ipython3",
   "version": "3.7.6"
  }
 },
 "nbformat": 4,
 "nbformat_minor": 4
}
