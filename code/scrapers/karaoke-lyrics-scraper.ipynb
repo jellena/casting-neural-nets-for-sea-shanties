{
 "cells": [
  {
   "cell_type": "code",
   "execution_count": 1,
   "metadata": {},
   "outputs": [],
   "source": [
    "# Imports\n",
    "import pandas as pd\n",
    "import requests\n",
    "import time\n",
    "\n",
    "from bs4 import BeautifulSoup\n",
    "from lxml import html"
   ]
  },
  {
   "cell_type": "code",
   "execution_count": 2,
   "metadata": {},
   "outputs": [
    {
     "data": {
      "text/plain": [
       "200"
      ]
     },
     "execution_count": 2,
     "metadata": {},
     "output_type": "execute_result"
    }
   ],
   "source": [
    "# Requesting main page for links\n",
    "res_links = requests.get('https://www.karaoke-lyrics.net/lyrics/sea-shanty-56697')\n",
    "res_links.status_code"
   ]
  },
  {
   "cell_type": "code",
   "execution_count": 3,
   "metadata": {},
   "outputs": [],
   "source": [
    "# Creating list of all links\n",
    "res_links_soup = BeautifulSoup(res_links.content, 'lxml')\n",
    "links_list_all = res_links_soup.find_all('a', href=True)"
   ]
  },
  {
   "cell_type": "code",
   "execution_count": 4,
   "metadata": {},
   "outputs": [],
   "source": [
    "# Creating empty links list\n",
    "links_list = []\n",
    "\n",
    "# Looping through all links on page and pulling only links to song lyrics\n",
    "for link in links_list_all:\n",
    "    if link['href'].find('/lyrics/sea-shanty/') != -1:\n",
    "        links_list.append(link['href'])\n",
    "        \n",
    "# Removing duplicate song lyrics \n",
    "links_list = list(set(links_list))"
   ]
  },
  {
   "cell_type": "code",
   "execution_count": 5,
   "metadata": {},
   "outputs": [],
   "source": [
    "# Creating empyt dictionary to hold lyrics\n",
    "shanties_dict = {}"
   ]
  },
  {
   "cell_type": "code",
   "execution_count": 6,
   "metadata": {},
   "outputs": [],
   "source": [
    "# Looping through each link to extract lyrics\n",
    "for link in links_list:\n",
    "    # Requestings lyrics page\n",
    "    res_lyrics = requests.get(f'https://www.karaoke-lyrics.net{link}')\n",
    "    res_lyrics.status_code\n",
    "    \n",
    "    # Putting in a small sleep to limit requests on server to under 100 per minute\n",
    "    time.sleep(.75)\n",
    "    \n",
    "    # Pulling song title from page\n",
    "    title = BeautifulSoup(res_lyrics.text).title.text\n",
    "    title = title.replace('Sea Shanty - ', '')\n",
    "    title = title.replace(' - lyrics', '')\n",
    "\n",
    "    # Pilling lyrics from page\n",
    "    lyrics_soup = BeautifulSoup(res_lyrics.content, 'lxml')\n",
    "    lyrics_raw = lyrics_soup.find_all('span', {'class': 'para_1lyrics_col1'})\n",
    "    lyrics_raw = [x.text for x in lyrics_raw]\n",
    "\n",
    "    # Converting list of strings into one string\n",
    "    lyrics = ''\n",
    "    lyrics = lyrics.join(lyrics_raw)\n",
    "\n",
    "    # Appending shanties_dict\n",
    "    shanties_dict.update({title : lyrics})"
   ]
  },
  {
   "cell_type": "code",
   "execution_count": 7,
   "metadata": {},
   "outputs": [],
   "source": [
    "# Creating data frame for songs and lyrics\n",
    "karaoke_lyrics_songs = pd.DataFrame(shanties_dict.items(), columns= ['title', 'lyrics'])"
   ]
  },
  {
   "cell_type": "code",
   "execution_count": 8,
   "metadata": {},
   "outputs": [],
   "source": [
    "# Writing to csv for use in other scripts\n",
    "karaoke_lyrics_songs.to_csv('../../data/karaoke_lyrics_songs.csv')"
   ]
  }
 ],
 "metadata": {
  "kernelspec": {
   "display_name": "Python 3",
   "language": "python",
   "name": "python3"
  },
  "language_info": {
   "codemirror_mode": {
    "name": "ipython",
    "version": 3
   },
   "file_extension": ".py",
   "mimetype": "text/x-python",
   "name": "python",
   "nbconvert_exporter": "python",
   "pygments_lexer": "ipython3",
   "version": "3.7.6"
  }
 },
 "nbformat": 4,
 "nbformat_minor": 4
}
